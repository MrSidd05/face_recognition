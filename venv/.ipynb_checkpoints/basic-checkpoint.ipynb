{
 "cells": [
  {
   "cell_type": "code",
   "execution_count": 1,
   "id": "f274f367",
   "metadata": {},
   "outputs": [],
   "source": [
    "#import libraries\n",
    "import cv2\n",
    "import numpy as np\n",
    "import face_recognition"
   ]
  },
  {
   "cell_type": "code",
   "execution_count": 2,
   "id": "99e1241d",
   "metadata": {},
   "outputs": [],
   "source": [
    "\n",
    "imgSid = face_recognition.load_image_file('..\\ImagesBasics\\Sidd.jpg')\n",
    "imgSid = cv2.cvtColor(imgSid,cv2.COLOR_BGR2RGB)\n",
    "\n",
    "imgTest = face_recognition.load_image_file('..\\ImagesBasics\\Sidd_test.jpg')\n",
    "imgTest = cv2.cvtColor(imgTest,cv2.COLOR_BGR2RGB)\n",
    "\n"
   ]
  },
  {
   "cell_type": "code",
   "execution_count": 3,
   "id": "eb2e2165",
   "metadata": {},
   "outputs": [],
   "source": [
    "imgSid = face_recognition.load_image_file('..\\ImagesBasics\\Sidd.jpg')\n",
    "imgSid = cv2.cvtColor(imgSid,cv2.COLOR_BGR2RGB)\n",
    "\n",
    "imgTest = face_recognition.load_image_file('..\\ImagesBasics\\kartik_test.jpg')\n",
    "imgTest = cv2.cvtColor(imgTest,cv2.COLOR_BGR2RGB)\n",
    "\n"
   ]
  },
  {
   "cell_type": "code",
   "execution_count": 5,
   "id": "d17c89c9",
   "metadata": {},
   "outputs": [
    {
     "name": "stdout",
     "output_type": "stream",
     "text": [
      "[True] [0.41258892]\n"
     ]
    },
    {
     "data": {
      "text/plain": [
       "-1"
      ]
     },
     "execution_count": 5,
     "metadata": {},
     "output_type": "execute_result"
    }
   ],
   "source": [
    "faceLoc = face_recognition.face_locations(imgSid)[0]\n",
    "encodeElon = face_recognition.face_encodings(imgSid)[0]\n",
    "cv2.rectangle(imgSid, (faceLoc[3], faceLoc[0]), (faceLoc[1], faceLoc[2]), (255, 0, 255), 2)\n",
    "# print(faceLoc) \n",
    "\n",
    "faceLocTest = face_recognition.face_locations(imgTest)[0]\n",
    "encodeTest = face_recognition.face_encodings(imgTest)[0]\n",
    "cv2.rectangle(imgTest, (faceLocTest[3], faceLocTest[0]), (faceLocTest[1], faceLocTest[2]), (255, 0, 255), 2)\n",
    "\n",
    "results = face_recognition.compare_faces([encodeElon], encodeTest)# comparing list of known faces and recognize face\n",
    "faceDis = face_recognition.face_distance([encodeElon], encodeTest)# lower the distance better the match\n",
    "print(results, faceDis)\n",
    "cv2.putText(imgTest, f'{results} {round(faceDis[0], 2)}', (50, 50), cv2.FONT_HERSHEY_COMPLEX, 1, (0, 0, 255), 2)\n",
    "\n",
    "cv2.imshow('Siddharth', imgSid)\n",
    "cv2.imshow('Sid Test', imgTest)\n",
    "cv2.waitKey(0)"
   ]
  },
  {
   "cell_type": "code",
   "execution_count": null,
   "id": "7a1335e8",
   "metadata": {},
   "outputs": [],
   "source": []
  }
 ],
 "metadata": {
  "kernelspec": {
   "display_name": "Python 3 (ipykernel)",
   "language": "python",
   "name": "python3"
  },
  "language_info": {
   "codemirror_mode": {
    "name": "ipython",
    "version": 3
   },
   "file_extension": ".py",
   "mimetype": "text/x-python",
   "name": "python",
   "nbconvert_exporter": "python",
   "pygments_lexer": "ipython3",
   "version": "3.10.11"
  }
 },
 "nbformat": 4,
 "nbformat_minor": 5
}
